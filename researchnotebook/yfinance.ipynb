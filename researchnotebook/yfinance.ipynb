{
 "cells": [
  {
   "cell_type": "code",
   "execution_count": 1,
   "metadata": {},
   "outputs": [
    {
     "name": "stderr",
     "output_type": "stream",
     "text": [
      "f:\\MarketInsightsGenerator\\venv\\lib\\site-packages\\yfinance\\utils.py:775: FutureWarning: The 'unit' keyword in TimedeltaIndex construction is deprecated and will be removed in a future version. Use pd.to_timedelta instead.\n",
      "  df.index += _pd.TimedeltaIndex(dst_error_hours, 'h')\n"
     ]
    },
    {
     "name": "stdout",
     "output_type": "stream",
     "text": [
      "                                 Open        High         Low       Close  \\\n",
      "Date                                                                        \n",
      "2024-02-09 00:00:00-05:00  414.483507  420.043233  414.323799  419.773712   \n",
      "2024-02-12 00:00:00-05:00  419.783705  419.963365  413.984431  414.493500   \n",
      "2024-02-13 00:00:00-05:00  404.192550  409.313085  402.645423  405.570007   \n",
      "2024-02-14 00:00:00-05:00  408.070007  409.839996  404.570007  409.489990   \n",
      "2024-02-15 00:00:00-05:00  408.140015  409.130005  404.290009  406.559998   \n",
      "2024-02-16 00:00:00-05:00  407.959991  408.290009  403.440002  404.059998   \n",
      "2024-02-20 00:00:00-05:00  403.239990  404.489990  398.010010  402.790009   \n",
      "2024-02-21 00:00:00-05:00  400.170013  402.290009  397.220001  402.179993   \n",
      "2024-02-22 00:00:00-05:00  410.190002  412.829987  408.570007  411.649994   \n",
      "2024-02-23 00:00:00-05:00  415.670013  415.859985  408.970001  410.339996   \n",
      "2024-02-26 00:00:00-05:00  411.459991  412.160004  407.359985  407.540009   \n",
      "2024-02-27 00:00:00-05:00  407.989990  408.320007  403.850006  407.480011   \n",
      "2024-02-28 00:00:00-05:00  408.179993  409.299988  405.320007  407.720001   \n",
      "2024-02-29 00:00:00-05:00  408.640015  414.200012  405.920013  413.640015   \n",
      "2024-03-01 00:00:00-05:00  411.269989  415.869995  410.880005  415.500000   \n",
      "2024-03-04 00:00:00-05:00  413.440002  417.350006  412.320007  414.920013   \n",
      "2024-03-05 00:00:00-05:00  413.959991  414.250000  400.640015  402.649994   \n",
      "2024-03-06 00:00:00-05:00  402.970001  405.160004  398.390015  402.089996   \n",
      "2024-03-07 00:00:00-05:00  406.119995  409.779999  402.239990  409.140015   \n",
      "2024-03-08 00:00:00-05:00  407.959991  410.420013  404.329987  406.220001   \n",
      "\n",
      "                             Volume  Dividends  Stock Splits  \n",
      "Date                                                          \n",
      "2024-02-09 00:00:00-05:00  22032800       0.00           0.0  \n",
      "2024-02-12 00:00:00-05:00  21202900       0.00           0.0  \n",
      "2024-02-13 00:00:00-05:00  27824900       0.00           0.0  \n",
      "2024-02-14 00:00:00-05:00  20401200       0.75           0.0  \n",
      "2024-02-15 00:00:00-05:00  21825500       0.00           0.0  \n",
      "2024-02-16 00:00:00-05:00  22281100       0.00           0.0  \n",
      "2024-02-20 00:00:00-05:00  24307900       0.00           0.0  \n",
      "2024-02-21 00:00:00-05:00  18631100       0.00           0.0  \n",
      "2024-02-22 00:00:00-05:00  27009900       0.00           0.0  \n",
      "2024-02-23 00:00:00-05:00  16295900       0.00           0.0  \n",
      "2024-02-26 00:00:00-05:00  16193500       0.00           0.0  \n",
      "2024-02-27 00:00:00-05:00  14835800       0.00           0.0  \n",
      "2024-02-28 00:00:00-05:00  13183100       0.00           0.0  \n",
      "2024-02-29 00:00:00-05:00  31947300       0.00           0.0  \n",
      "2024-03-01 00:00:00-05:00  17800300       0.00           0.0  \n",
      "2024-03-04 00:00:00-05:00  17596000       0.00           0.0  \n",
      "2024-03-05 00:00:00-05:00  26919200       0.00           0.0  \n",
      "2024-03-06 00:00:00-05:00  22344100       0.00           0.0  \n",
      "2024-03-07 00:00:00-05:00  18718500       0.00           0.0  \n",
      "2024-03-08 00:00:00-05:00  17971700       0.00           0.0  \n"
     ]
    }
   ],
   "source": [
    "import yfinance as yf\n",
    "\n",
    "msft = yf.Ticker(\"MSFT\")\n",
    "\n",
    "# get all stock info\n",
    "msft.info\n",
    "\n",
    "# get historical market data\n",
    "hist = msft.history(period=\"1mo\")\n",
    "print(hist)"
   ]
  },
  {
   "cell_type": "code",
   "execution_count": 2,
   "metadata": {},
   "outputs": [
    {
     "name": "stdout",
     "output_type": "stream",
     "text": [
      "                                 Open        High         Low       Close  \\\n",
      "Date                                                                        \n",
      "2024-02-09 00:00:00-05:00  414.483507  420.043233  414.323799  419.773712   \n",
      "2024-02-12 00:00:00-05:00  419.783705  419.963365  413.984431  414.493500   \n",
      "2024-02-13 00:00:00-05:00  404.192550  409.313085  402.645423  405.570007   \n",
      "2024-02-14 00:00:00-05:00  408.070007  409.839996  404.570007  409.489990   \n",
      "2024-02-15 00:00:00-05:00  408.140015  409.130005  404.290009  406.559998   \n",
      "2024-02-16 00:00:00-05:00  407.959991  408.290009  403.440002  404.059998   \n",
      "2024-02-20 00:00:00-05:00  403.239990  404.489990  398.010010  402.790009   \n",
      "2024-02-21 00:00:00-05:00  400.170013  402.290009  397.220001  402.179993   \n",
      "2024-02-22 00:00:00-05:00  410.190002  412.829987  408.570007  411.649994   \n",
      "2024-02-23 00:00:00-05:00  415.670013  415.859985  408.970001  410.339996   \n",
      "2024-02-26 00:00:00-05:00  411.459991  412.160004  407.359985  407.540009   \n",
      "2024-02-27 00:00:00-05:00  407.989990  408.320007  403.850006  407.480011   \n",
      "2024-02-28 00:00:00-05:00  408.179993  409.299988  405.320007  407.720001   \n",
      "2024-02-29 00:00:00-05:00  408.640015  414.200012  405.920013  413.640015   \n",
      "2024-03-01 00:00:00-05:00  411.269989  415.869995  410.880005  415.500000   \n",
      "2024-03-04 00:00:00-05:00  413.440002  417.350006  412.320007  414.920013   \n",
      "2024-03-05 00:00:00-05:00  413.959991  414.250000  400.640015  402.649994   \n",
      "2024-03-06 00:00:00-05:00  402.970001  405.160004  398.390015  402.089996   \n",
      "2024-03-07 00:00:00-05:00  406.119995  409.779999  402.239990  409.140015   \n",
      "2024-03-08 00:00:00-05:00  407.959991  410.420013  404.329987  406.220001   \n",
      "\n",
      "                             Volume  Dividends  Stock Splits  \n",
      "Date                                                          \n",
      "2024-02-09 00:00:00-05:00  22032800       0.00           0.0  \n",
      "2024-02-12 00:00:00-05:00  21202900       0.00           0.0  \n",
      "2024-02-13 00:00:00-05:00  27824900       0.00           0.0  \n",
      "2024-02-14 00:00:00-05:00  20401200       0.75           0.0  \n",
      "2024-02-15 00:00:00-05:00  21825500       0.00           0.0  \n",
      "2024-02-16 00:00:00-05:00  22281100       0.00           0.0  \n",
      "2024-02-20 00:00:00-05:00  24307900       0.00           0.0  \n",
      "2024-02-21 00:00:00-05:00  18631100       0.00           0.0  \n",
      "2024-02-22 00:00:00-05:00  27009900       0.00           0.0  \n",
      "2024-02-23 00:00:00-05:00  16295900       0.00           0.0  \n",
      "2024-02-26 00:00:00-05:00  16193500       0.00           0.0  \n",
      "2024-02-27 00:00:00-05:00  14835800       0.00           0.0  \n",
      "2024-02-28 00:00:00-05:00  13183100       0.00           0.0  \n",
      "2024-02-29 00:00:00-05:00  31947300       0.00           0.0  \n",
      "2024-03-01 00:00:00-05:00  17800300       0.00           0.0  \n",
      "2024-03-04 00:00:00-05:00  17596000       0.00           0.0  \n",
      "2024-03-05 00:00:00-05:00  26919200       0.00           0.0  \n",
      "2024-03-06 00:00:00-05:00  22344100       0.00           0.0  \n",
      "2024-03-07 00:00:00-05:00  18718500       0.00           0.0  \n",
      "2024-03-08 00:00:00-05:00  17971700       0.00           0.0  \n"
     ]
    },
    {
     "name": "stderr",
     "output_type": "stream",
     "text": [
      "f:\\MarketInsightsGenerator\\venv\\lib\\site-packages\\yfinance\\utils.py:775: FutureWarning: The 'unit' keyword in TimedeltaIndex construction is deprecated and will be removed in a future version. Use pd.to_timedelta instead.\n",
      "  df.index += _pd.TimedeltaIndex(dst_error_hours, 'h')\n"
     ]
    }
   ],
   "source": [
    "import yfinance as yf\n",
    "\n",
    "\n",
    "def get_stock_data(symbol):\n",
    "    # Create a Ticker object for the given stock symbol\n",
    "    stock = yf.Ticker(symbol)\n",
    "\n",
    "    # Get historical market data for the last one month\n",
    "    hist_data = stock.history(period=\"1mo\")\n",
    "\n",
    "    return hist_data\n",
    "\n",
    "\n",
    "# Example usage\n",
    "stock_symbol = \"MSFT\"\n",
    "stock_data = get_stock_data(stock_symbol)\n",
    "print(stock_data)"
   ]
  },
  {
   "cell_type": "code",
   "execution_count": 3,
   "metadata": {},
   "outputs": [
    {
     "name": "stdout",
     "output_type": "stream",
     "text": [
      "duplicate key value violates unique constraint \"stock_pkey\"\n",
      "DETAIL:  Key (date_time)=(2024-02-09 10:30:00) already exists.\n",
      "\n"
     ]
    },
    {
     "name": "stderr",
     "output_type": "stream",
     "text": [
      "f:\\MarketInsightsGenerator\\venv\\lib\\site-packages\\yfinance\\utils.py:775: FutureWarning: The 'unit' keyword in TimedeltaIndex construction is deprecated and will be removed in a future version. Use pd.to_timedelta instead.\n",
      "  df.index += _pd.TimedeltaIndex(dst_error_hours, 'h')\n"
     ]
    }
   ],
   "source": [
    "import yfinance as yf\n",
    "import psycopg2\n",
    "\n",
    "hostname = \"localhost\"\n",
    "database = \"Finance\"\n",
    "username = \"postgres\"\n",
    "pwd = \"1234\"\n",
    "port_id = 5432\n",
    "\n",
    "conn = None\n",
    "curr = None\n",
    "\n",
    "try:\n",
    "    # Establish connection to PostgreSQL\n",
    "    conn = psycopg2.connect(\n",
    "        host=hostname, dbname=database, user=username, password=pwd, port=port_id\n",
    "    )\n",
    "    curr = conn.cursor()\n",
    "\n",
    "    # Create the stock table if it doesn't exist\n",
    "    create_script = \"\"\"CREATE TABLE IF NOT EXISTS stock (\n",
    "                    date_time TIMESTAMP PRIMARY KEY,\n",
    "                    open_price FLOAT,\n",
    "                    high_price FLOAT,\n",
    "                    low_price FLOAT,\n",
    "                    close_price FLOAT\n",
    "                    )\"\"\"\n",
    "    curr.execute(create_script)\n",
    "    conn.commit()\n",
    "\n",
    "    # Get historical market data for the last one month\n",
    "    msft = yf.Ticker(\"MSFT\")\n",
    "    hist = msft.history(period=\"1mo\")\n",
    "\n",
    "    # Insert data into the stock table\n",
    "    for index, row in hist.iterrows():\n",
    "        curr.execute(\n",
    "            \"INSERT INTO stock (date_time, open_price, high_price, low_price, close_price) VALUES (%s, %s, %s, %s, %s)\",\n",
    "            (index, row[\"Open\"], row[\"High\"], row[\"Low\"], row[\"Close\"]),\n",
    "        )\n",
    "    conn.commit()\n",
    "\n",
    "except Exception as error:\n",
    "    print(error)\n",
    "\n",
    "finally:\n",
    "    if curr is not None:\n",
    "        curr.close()\n",
    "    if conn is not None:\n",
    "        conn.close()"
   ]
  }
 ],
 "metadata": {
  "kernelspec": {
   "display_name": "Python 3",
   "language": "python",
   "name": "python3"
  },
  "language_info": {
   "codemirror_mode": {
    "name": "ipython",
    "version": 3
   },
   "file_extension": ".py",
   "mimetype": "text/x-python",
   "name": "python",
   "nbconvert_exporter": "python",
   "pygments_lexer": "ipython3",
   "version": "3.9.0"
  }
 },
 "nbformat": 4,
 "nbformat_minor": 2
}
