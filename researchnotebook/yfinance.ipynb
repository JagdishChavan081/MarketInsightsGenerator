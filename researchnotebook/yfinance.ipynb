{
 "cells": [
  {
   "cell_type": "code",
   "execution_count": 2,
   "metadata": {},
   "outputs": [
    {
     "name": "stderr",
     "output_type": "stream",
     "text": [
      "f:\\MarketInsightsGenerator\\venv\\lib\\site-packages\\yfinance\\utils.py:775: FutureWarning: The 'unit' keyword in TimedeltaIndex construction is deprecated and will be removed in a future version. Use pd.to_timedelta instead.\n",
      "  df.index += _pd.TimedeltaIndex(dst_error_hours, 'h')\n"
     ]
    },
    {
     "name": "stdout",
     "output_type": "stream",
     "text": [
      "                                 Open        High         Low       Close  \\\n",
      "Date                                                                        \n",
      "2024-01-22 00:00:00-05:00  399.281607  399.880506  392.863483  395.778107   \n",
      "2024-01-23 00:00:00-05:00  395.019517  398.642821  393.202869  398.163696   \n",
      "2024-01-24 00:00:00-05:00  400.798819  404.881266  399.710834  401.816925   \n",
      "2024-01-25 00:00:00-05:00  403.573708  406.258745  401.787004  404.122681   \n",
      "2024-01-26 00:00:00-05:00  403.623608  405.420304  401.687186  403.184418   \n",
      "2024-01-29 00:00:00-05:00  405.310467  409.223244  403.583649  408.963715   \n",
      "2024-01-30 00:00:00-05:00  411.499055  412.287575  405.699781  407.835815   \n",
      "2024-01-31 00:00:00-05:00  406.208822  414.553406  396.476818  396.846130   \n",
      "2024-02-01 00:00:00-05:00  401.088286  407.246910  401.058342  403.034698   \n",
      "2024-02-02 00:00:00-05:00  403.064642  411.888321  402.815103  410.460968   \n",
      "2024-02-05 00:00:00-05:00  409.143400  410.401085  403.244305  404.901245   \n",
      "2024-02-06 00:00:00-05:00  405.130811  407.216949  402.166292  404.741516   \n",
      "2024-02-07 00:00:00-05:00  406.687921  413.535244  406.647987  413.285706   \n",
      "2024-02-08 00:00:00-05:00  413.285725  414.792947  411.768541  413.345612   \n",
      "2024-02-09 00:00:00-05:00  414.483507  420.043233  414.323799  419.773712   \n",
      "2024-02-12 00:00:00-05:00  419.783705  419.963365  413.984431  414.493500   \n",
      "2024-02-13 00:00:00-05:00  404.192550  409.313085  402.645423  405.570007   \n",
      "2024-02-14 00:00:00-05:00  408.070007  409.839996  404.570007  409.489990   \n",
      "2024-02-15 00:00:00-05:00  408.140015  409.130005  404.290009  406.559998   \n",
      "2024-02-16 00:00:00-05:00  407.959991  408.290009  403.440002  404.059998   \n",
      "2024-02-20 00:00:00-05:00  403.239990  404.489990  398.010010  402.790009   \n",
      "\n",
      "                             Volume  Dividends  Stock Splits  \n",
      "Date                                                          \n",
      "2024-01-22 00:00:00-05:00  27016900       0.00           0.0  \n",
      "2024-01-23 00:00:00-05:00  20525900       0.00           0.0  \n",
      "2024-01-24 00:00:00-05:00  24867000       0.00           0.0  \n",
      "2024-01-25 00:00:00-05:00  21021200       0.00           0.0  \n",
      "2024-01-26 00:00:00-05:00  17803300       0.00           0.0  \n",
      "2024-01-29 00:00:00-05:00  24510200       0.00           0.0  \n",
      "2024-01-30 00:00:00-05:00  33477600       0.00           0.0  \n",
      "2024-01-31 00:00:00-05:00  47871100       0.00           0.0  \n",
      "2024-02-01 00:00:00-05:00  30657700       0.00           0.0  \n",
      "2024-02-02 00:00:00-05:00  28245000       0.00           0.0  \n",
      "2024-02-05 00:00:00-05:00  25352300       0.00           0.0  \n",
      "2024-02-06 00:00:00-05:00  18382600       0.00           0.0  \n",
      "2024-02-07 00:00:00-05:00  22340500       0.00           0.0  \n",
      "2024-02-08 00:00:00-05:00  21225300       0.00           0.0  \n",
      "2024-02-09 00:00:00-05:00  22032800       0.00           0.0  \n",
      "2024-02-12 00:00:00-05:00  21202900       0.00           0.0  \n",
      "2024-02-13 00:00:00-05:00  27824900       0.00           0.0  \n",
      "2024-02-14 00:00:00-05:00  20401200       0.75           0.0  \n",
      "2024-02-15 00:00:00-05:00  21825500       0.00           0.0  \n",
      "2024-02-16 00:00:00-05:00  22281100       0.00           0.0  \n",
      "2024-02-20 00:00:00-05:00  24278300       0.00           0.0  \n"
     ]
    }
   ],
   "source": [
    "import yfinance as yf\n",
    "\n",
    "msft = yf.Ticker(\"MSFT\")\n",
    "\n",
    "# get all stock info\n",
    "msft.info\n",
    "\n",
    "# get historical market data\n",
    "hist = msft.history(period=\"1mo\")\n",
    "print(hist)"
   ]
  },
  {
   "cell_type": "code",
   "execution_count": 3,
   "metadata": {},
   "outputs": [
    {
     "name": "stdout",
     "output_type": "stream",
     "text": [
      "                                 Open        High         Low       Close  \\\n",
      "Date                                                                        \n",
      "2024-01-22 00:00:00-05:00  399.281607  399.880506  392.863483  395.778107   \n",
      "2024-01-23 00:00:00-05:00  395.019517  398.642821  393.202869  398.163696   \n",
      "2024-01-24 00:00:00-05:00  400.798819  404.881266  399.710834  401.816925   \n",
      "2024-01-25 00:00:00-05:00  403.573708  406.258745  401.787004  404.122681   \n",
      "2024-01-26 00:00:00-05:00  403.623608  405.420304  401.687186  403.184418   \n",
      "2024-01-29 00:00:00-05:00  405.310467  409.223244  403.583649  408.963715   \n",
      "2024-01-30 00:00:00-05:00  411.499055  412.287575  405.699781  407.835815   \n",
      "2024-01-31 00:00:00-05:00  406.208822  414.553406  396.476818  396.846130   \n",
      "2024-02-01 00:00:00-05:00  401.088286  407.246910  401.058342  403.034698   \n",
      "2024-02-02 00:00:00-05:00  403.064642  411.888321  402.815103  410.460968   \n",
      "2024-02-05 00:00:00-05:00  409.143400  410.401085  403.244305  404.901245   \n",
      "2024-02-06 00:00:00-05:00  405.130811  407.216949  402.166292  404.741516   \n",
      "2024-02-07 00:00:00-05:00  406.687921  413.535244  406.647987  413.285706   \n",
      "2024-02-08 00:00:00-05:00  413.285725  414.792947  411.768541  413.345612   \n",
      "2024-02-09 00:00:00-05:00  414.483507  420.043233  414.323799  419.773712   \n",
      "2024-02-12 00:00:00-05:00  419.783705  419.963365  413.984431  414.493500   \n",
      "2024-02-13 00:00:00-05:00  404.192550  409.313085  402.645423  405.570007   \n",
      "2024-02-14 00:00:00-05:00  408.070007  409.839996  404.570007  409.489990   \n",
      "2024-02-15 00:00:00-05:00  408.140015  409.130005  404.290009  406.559998   \n",
      "2024-02-16 00:00:00-05:00  407.959991  408.290009  403.440002  404.059998   \n",
      "2024-02-20 00:00:00-05:00  403.239990  404.489990  398.010010  402.790009   \n",
      "\n",
      "                             Volume  Dividends  Stock Splits  \n",
      "Date                                                          \n",
      "2024-01-22 00:00:00-05:00  27016900       0.00           0.0  \n",
      "2024-01-23 00:00:00-05:00  20525900       0.00           0.0  \n",
      "2024-01-24 00:00:00-05:00  24867000       0.00           0.0  \n",
      "2024-01-25 00:00:00-05:00  21021200       0.00           0.0  \n",
      "2024-01-26 00:00:00-05:00  17803300       0.00           0.0  \n",
      "2024-01-29 00:00:00-05:00  24510200       0.00           0.0  \n",
      "2024-01-30 00:00:00-05:00  33477600       0.00           0.0  \n",
      "2024-01-31 00:00:00-05:00  47871100       0.00           0.0  \n",
      "2024-02-01 00:00:00-05:00  30657700       0.00           0.0  \n",
      "2024-02-02 00:00:00-05:00  28245000       0.00           0.0  \n",
      "2024-02-05 00:00:00-05:00  25352300       0.00           0.0  \n",
      "2024-02-06 00:00:00-05:00  18382600       0.00           0.0  \n",
      "2024-02-07 00:00:00-05:00  22340500       0.00           0.0  \n",
      "2024-02-08 00:00:00-05:00  21225300       0.00           0.0  \n",
      "2024-02-09 00:00:00-05:00  22032800       0.00           0.0  \n",
      "2024-02-12 00:00:00-05:00  21202900       0.00           0.0  \n",
      "2024-02-13 00:00:00-05:00  27824900       0.00           0.0  \n",
      "2024-02-14 00:00:00-05:00  20401200       0.75           0.0  \n",
      "2024-02-15 00:00:00-05:00  21825500       0.00           0.0  \n",
      "2024-02-16 00:00:00-05:00  22281100       0.00           0.0  \n",
      "2024-02-20 00:00:00-05:00  24278300       0.00           0.0  \n"
     ]
    },
    {
     "name": "stderr",
     "output_type": "stream",
     "text": [
      "f:\\MarketInsightsGenerator\\venv\\lib\\site-packages\\yfinance\\utils.py:775: FutureWarning: The 'unit' keyword in TimedeltaIndex construction is deprecated and will be removed in a future version. Use pd.to_timedelta instead.\n",
      "  df.index += _pd.TimedeltaIndex(dst_error_hours, 'h')\n"
     ]
    }
   ],
   "source": [
    "import yfinance as yf\n",
    "\n",
    "\n",
    "def get_stock_data(symbol):\n",
    "    # Create a Ticker object for the given stock symbol\n",
    "    stock = yf.Ticker(symbol)\n",
    "\n",
    "    # Get historical market data for the last one month\n",
    "    hist_data = stock.history(period=\"1mo\")\n",
    "\n",
    "    return hist_data\n",
    "\n",
    "\n",
    "# Example usage\n",
    "stock_symbol = \"MSFT\"\n",
    "stock_data = get_stock_data(stock_symbol)\n",
    "print(stock_data)"
   ]
  },
  {
   "cell_type": "code",
   "execution_count": 4,
   "metadata": {},
   "outputs": [
    {
     "name": "stderr",
     "output_type": "stream",
     "text": [
      "f:\\MarketInsightsGenerator\\venv\\lib\\site-packages\\yfinance\\utils.py:775: FutureWarning: The 'unit' keyword in TimedeltaIndex construction is deprecated and will be removed in a future version. Use pd.to_timedelta instead.\n",
      "  df.index += _pd.TimedeltaIndex(dst_error_hours, 'h')\n"
     ]
    }
   ],
   "source": [
    "import yfinance as yf\n",
    "import psycopg2\n",
    "\n",
    "hostname = \"localhost\"\n",
    "database = \"Finance\"\n",
    "username = \"postgres\"\n",
    "pwd = \"1234\"\n",
    "port_id = 5432\n",
    "\n",
    "conn = None\n",
    "curr = None\n",
    "\n",
    "try:\n",
    "    # Establish connection to PostgreSQL\n",
    "    conn = psycopg2.connect(\n",
    "        host=hostname, dbname=database, user=username, password=pwd, port=port_id\n",
    "    )\n",
    "    curr = conn.cursor()\n",
    "\n",
    "    # Create the stock table if it doesn't exist\n",
    "    create_script = \"\"\"CREATE TABLE IF NOT EXISTS stock (\n",
    "                    date_time TIMESTAMP PRIMARY KEY,\n",
    "                    open_price FLOAT,\n",
    "                    high_price FLOAT,\n",
    "                    low_price FLOAT,\n",
    "                    close_price FLOAT\n",
    "                    )\"\"\"\n",
    "    curr.execute(create_script)\n",
    "    conn.commit()\n",
    "\n",
    "    # Get historical market data for the last one month\n",
    "    msft = yf.Ticker(\"MSFT\")\n",
    "    hist = msft.history(period=\"1mo\")\n",
    "\n",
    "    # Insert data into the stock table\n",
    "    for index, row in hist.iterrows():\n",
    "        curr.execute(\n",
    "            \"INSERT INTO stock (date_time, open_price, high_price, low_price, close_price) VALUES (%s, %s, %s, %s, %s)\",\n",
    "            (index, row[\"Open\"], row[\"High\"], row[\"Low\"], row[\"Close\"]),\n",
    "        )\n",
    "    conn.commit()\n",
    "\n",
    "except Exception as error:\n",
    "    print(error)\n",
    "\n",
    "finally:\n",
    "    if curr is not None:\n",
    "        curr.close()\n",
    "    if conn is not None:\n",
    "        conn.close()"
   ]
  }
 ],
 "metadata": {
  "kernelspec": {
   "display_name": "Python 3",
   "language": "python",
   "name": "python3"
  },
  "language_info": {
   "codemirror_mode": {
    "name": "ipython",
    "version": 3
   },
   "file_extension": ".py",
   "mimetype": "text/x-python",
   "name": "python",
   "nbconvert_exporter": "python",
   "pygments_lexer": "ipython3",
   "version": "3.9.0"
  }
 },
 "nbformat": 4,
 "nbformat_minor": 2
}
